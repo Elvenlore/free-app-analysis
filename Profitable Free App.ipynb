{
 "cells": [
  {
   "cell_type": "markdown",
   "metadata": {},
   "source": [
    "## Profitable Free Apps"
   ]
  },
  {
   "cell_type": "markdown",
   "metadata": {},
   "source": [
    "The cardinal purpose of the project is to determine profitable apps among the apps in a database where their attributes are located. In this project, the apps in the Google Play and Apple Store have been analyzed. The criterias are:\n",
    "\n",
    "- Only Free Apps\n",
    "- Apps with Only English Name "
   ]
  },
  {
   "cell_type": "markdown",
   "metadata": {},
   "source": [
    "As both App Store and Google Play include more than 4 millions apps in total and this study is conduted for certain numbers of apps,it is applied on the datasets are loacted in the below links"
   ]
  },
  {
   "cell_type": "markdown",
   "metadata": {},
   "source": [
    "-For Android Apps https://www.kaggle.com/lava18/google-play-store-apps\n",
    "\n",
    "-For iOS Apps https://www.kaggle.com/ramamet4/app-store-apple-data-set-10k-apps"
   ]
  },
  {
   "cell_type": "markdown",
   "metadata": {},
   "source": [
    "**1.Opening the Datasets**"
   ]
  },
  {
   "cell_type": "code",
   "execution_count": 1,
   "metadata": {},
   "outputs": [],
   "source": [
    "Opened_file_IoS = open(\"AppleStore.csv\")\n",
    "from csv import reader\n",
    "Read_File_Ios = reader(Opened_file_IoS)\n",
    "IOS = list(Read_File_Ios)"
   ]
  },
  {
   "cell_type": "markdown",
   "metadata": {},
   "source": [
    "*An optional function to explore the datasets* "
   ]
  },
  {
   "cell_type": "code",
   "execution_count": 2,
   "metadata": {},
   "outputs": [],
   "source": [
    "def explore_data(dataset, start, end, rows_and_columns=False):\n",
    "    dataset_slice = dataset[start:end]    \n",
    "    for row in dataset_slice:\n",
    "        print(row)\n",
    "        print('\\n') # adds a new (empty) line after each row\n",
    "\n",
    "    if rows_and_columns:\n",
    "        print('Number of rows:', len(dataset))\n",
    "        print('Number of columns:', len(dataset[0]))"
   ]
  },
  {
   "cell_type": "code",
   "execution_count": 3,
   "metadata": {
    "scrolled": false
   },
   "outputs": [
    {
     "name": "stdout",
     "output_type": "stream",
     "text": [
      "['284882215', 'Facebook', '389879808', 'USD', '0.0', '2974676', '212', '3.5', '3.5', '95.0', '4+', 'Social Networking', '37', '1', '29', '1']\n",
      "\n",
      "\n",
      "['389801252', 'Instagram', '113954816', 'USD', '0.0', '2161558', '1289', '4.5', '4.0', '10.23', '12+', 'Photo & Video', '37', '0', '29', '1']\n",
      "\n",
      "\n",
      "['529479190', 'Clash of Clans', '116476928', 'USD', '0.0', '2130805', '579', '4.5', '4.5', '9.24.12', '9+', 'Games', '38', '5', '18', '1']\n",
      "\n",
      "\n",
      "['420009108', 'Temple Run', '65921024', 'USD', '0.0', '1724546', '3842', '4.5', '4.0', '1.6.2', '9+', 'Games', '40', '5', '1', '1']\n",
      "\n",
      "\n",
      "Number of rows: 7198\n",
      "Number of columns: 16\n"
     ]
    }
   ],
   "source": [
    "explore_data(IOS,1,5,rows_and_columns=True)"
   ]
  },
  {
   "cell_type": "code",
   "execution_count": 4,
   "metadata": {},
   "outputs": [],
   "source": [
    "Opened_file_Android = open(\"googleplaystore.csv\")\n",
    "from csv import reader\n",
    "Read_File_Android = reader(Opened_file_Android)\n",
    "Android = list(Read_File_Android)"
   ]
  },
  {
   "cell_type": "code",
   "execution_count": 5,
   "metadata": {
    "scrolled": false
   },
   "outputs": [
    {
     "name": "stdout",
     "output_type": "stream",
     "text": [
      "['Photo Editor & Candy Camera & Grid & ScrapBook', 'ART_AND_DESIGN', '4.1', '159', '19M', '10,000+', 'Free', '0', 'Everyone', 'Art & Design', 'January 7, 2018', '1.0.0', '4.0.3 and up']\n",
      "\n",
      "\n",
      "['Coloring book moana', 'ART_AND_DESIGN', '3.9', '967', '14M', '500,000+', 'Free', '0', 'Everyone', 'Art & Design;Pretend Play', 'January 15, 2018', '2.0.0', '4.0.3 and up']\n",
      "\n",
      "\n",
      "['U Launcher Lite – FREE Live Cool Themes, Hide Apps', 'ART_AND_DESIGN', '4.7', '87510', '8.7M', '5,000,000+', 'Free', '0', 'Everyone', 'Art & Design', 'August 1, 2018', '1.2.4', '4.0.3 and up']\n",
      "\n",
      "\n",
      "['Sketch - Draw & Paint', 'ART_AND_DESIGN', '4.5', '215644', '25M', '50,000,000+', 'Free', '0', 'Teen', 'Art & Design', 'June 8, 2018', 'Varies with device', '4.2 and up']\n",
      "\n",
      "\n",
      "Number of rows: 10842\n",
      "Number of columns: 13\n"
     ]
    }
   ],
   "source": [
    "explore_data(Android,1,5,rows_and_columns=True)"
   ]
  },
  {
   "cell_type": "code",
   "execution_count": 6,
   "metadata": {
    "scrolled": true
   },
   "outputs": [
    {
     "name": "stdout",
     "output_type": "stream",
     "text": [
      "['id', 'track_name', 'size_bytes', 'currency', 'price', 'rating_count_tot', 'rating_count_ver', 'user_rating', 'user_rating_ver', 'ver', 'cont_rating', 'prime_genre', 'sup_devices.num', 'ipadSc_urls.num', 'lang.num', 'vpp_lic']\n",
      "\n",
      "\n",
      "['284882215', 'Facebook', '389879808', 'USD', '0.0', '2974676', '212', '3.5', '3.5', '95.0', '4+', 'Social Networking', '37', '1', '29', '1']\n",
      "\n",
      "\n"
     ]
    }
   ],
   "source": [
    "explore_data(IOS,0,2,rows_and_columns=False)"
   ]
  },
  {
   "cell_type": "code",
   "execution_count": 7,
   "metadata": {
    "scrolled": true
   },
   "outputs": [
    {
     "name": "stdout",
     "output_type": "stream",
     "text": [
      "['App', 'Category', 'Rating', 'Reviews', 'Size', 'Installs', 'Type', 'Price', 'Content Rating', 'Genres', 'Last Updated', 'Current Ver', 'Android Ver']\n",
      "\n",
      "\n",
      "['Photo Editor & Candy Camera & Grid & ScrapBook', 'ART_AND_DESIGN', '4.1', '159', '19M', '10,000+', 'Free', '0', 'Everyone', 'Art & Design', 'January 7, 2018', '1.0.0', '4.0.3 and up']\n",
      "\n",
      "\n"
     ]
    }
   ],
   "source": [
    "explore_data(Android,0,2,rows_and_columns=False)"
   ]
  },
  {
   "cell_type": "markdown",
   "metadata": {},
   "source": [
    "We will ensure that our datasets contain only the apps whose name in English and labeled as \"free\" under price coloumn in line with the criteria at the beginning\" . But before this, we must determine the rows with error or not confirming to the order in the dataset.In order to do that we need to  proceed Data Cleaning."
   ]
  },
  {
   "cell_type": "markdown",
   "metadata": {},
   "source": [
    "**2.Cleaning the Errors,Duplicates and Irrelevant Datas from the Datasets**"
   ]
  },
  {
   "cell_type": "code",
   "execution_count": 8,
   "metadata": {},
   "outputs": [
    {
     "name": "stdout",
     "output_type": "stream",
     "text": [
      "19\n"
     ]
    }
   ],
   "source": [
    "print(Android[10473][2]) #This should return a float or integer between 0 and 5\n",
    "#The error in this row were found manually by checking in dataset "
   ]
  },
  {
   "cell_type": "code",
   "execution_count": 9,
   "metadata": {},
   "outputs": [],
   "source": [
    "del Android[10473]"
   ]
  },
  {
   "cell_type": "markdown",
   "metadata": {},
   "source": [
    "Following code determines whether there are duplicates in Android dataset   "
   ]
  },
  {
   "cell_type": "code",
   "execution_count": 10,
   "metadata": {},
   "outputs": [
    {
     "name": "stdout",
     "output_type": "stream",
     "text": [
      "Number of duplicate apps: 1181\n",
      "\n",
      "\n",
      "Examples of duplicate apps: ['Quick PDF Scanner + OCR FREE', 'Box', 'Google My Business', 'ZOOM Cloud Meetings', 'join.me - Simple Meetings', 'Box', 'Zenefits', 'Google Ads', 'Google My Business', 'Slack']\n"
     ]
    }
   ],
   "source": [
    "duplicate_apps_Android = []\n",
    "unique_apps_Android = []\n",
    "for app in Android:\n",
    "    name = app[0]\n",
    "    if name in unique_apps_Android:\n",
    "        duplicate_apps_Android.append(name)\n",
    "    else:unique_apps_Android.append(name)\n",
    "print('Number of duplicate apps:', len(duplicate_apps_Android))\n",
    "print('\\n')\n",
    "print('Examples of duplicate apps:',duplicate_apps_Android[:10])\n",
    "        "
   ]
  },
  {
   "cell_type": "markdown",
   "metadata": {},
   "source": [
    "Among the duplicates, the one which has the most updated attributes should remain after removing of duplicate process for a precise anlaysis. Based on this, there is only one attribute varies for a duplicated app, which is \"Review\". Take a look below for better understanding."
   ]
  },
  {
   "cell_type": "code",
   "execution_count": 11,
   "metadata": {},
   "outputs": [
    {
     "name": "stdout",
     "output_type": "stream",
     "text": [
      "['Google Ads', 'BUSINESS', '4.3', '29313', '20M', '5,000,000+', 'Free', '0', 'Everyone', 'Business', 'July 30, 2018', '1.12.0', '4.0.3 and up']\n",
      "['Google Ads', 'BUSINESS', '4.3', '29313', '20M', '5,000,000+', 'Free', '0', 'Everyone', 'Business', 'July 30, 2018', '1.12.0', '4.0.3 and up']\n",
      "['Google Ads', 'BUSINESS', '4.3', '29331', '20M', '5,000,000+', 'Free', '0', 'Everyone', 'Business', 'July 30, 2018', '1.12.0', '4.0.3 and up']\n"
     ]
    }
   ],
   "source": [
    "for app in Android:\n",
    "    name = app[0]\n",
    "    if name == \"Google Ads\": # App name from \"duplicate_apps_Android\" list\n",
    "        print(app)"
   ]
  },
  {
   "cell_type": "markdown",
   "metadata": {},
   "source": [
    "**2.1 Removing Duplicates**"
   ]
  },
  {
   "cell_type": "markdown",
   "metadata": {},
   "source": [
    "Firstly, it should be created a dictionary that includes all apps without duplicates. in addition to this, we will collect only ones which have the highest review among the apps which have a duplicate.\n",
    "\n",
    "Note : Since Appstore.csv does not include duplicates this step will not apply to it."
   ]
  },
  {
   "cell_type": "code",
   "execution_count": 12,
   "metadata": {
    "scrolled": true
   },
   "outputs": [
    {
     "name": "stdout",
     "output_type": "stream",
     "text": [
      "Expected length 9659\n",
      "\n",
      "\n",
      "9659\n"
     ]
    }
   ],
   "source": [
    "reviews_max = {}\n",
    "for app in Android[1:]:\n",
    "    name = app[0]\n",
    "    n_reviews = float(app[3])\n",
    "    if name in reviews_max and reviews_max[name] < n_reviews:\n",
    "        reviews_max[name] = n_reviews\n",
    "    if name not in reviews_max:\n",
    "        reviews_max[name] = n_reviews\n",
    "        \n",
    "print('Expected length', len(Android[1:]) - 1181) #we have determined 1181 duplicates above        \n",
    "print('\\n')\n",
    "print(len(reviews_max)) \n",
    "\n",
    "\n",
    "    \n",
    "        "
   ]
  },
  {
   "cell_type": "markdown",
   "metadata": {},
   "source": [
    "Secondly, we need to create a dataset free of duplicates."
   ]
  },
  {
   "cell_type": "code",
   "execution_count": 13,
   "metadata": {
    "scrolled": true
   },
   "outputs": [
    {
     "name": "stdout",
     "output_type": "stream",
     "text": [
      "9659\n",
      "\n",
      "\n",
      "[['Photo Editor & Candy Camera & Grid & ScrapBook', 'ART_AND_DESIGN', '4.1', '159', '19M', '10,000+', 'Free', '0', 'Everyone', 'Art & Design', 'January 7, 2018', '1.0.0', '4.0.3 and up'], ['U Launcher Lite – FREE Live Cool Themes, Hide Apps', 'ART_AND_DESIGN', '4.7', '87510', '8.7M', '5,000,000+', 'Free', '0', 'Everyone', 'Art & Design', 'August 1, 2018', '1.2.4', '4.0.3 and up'], ['Sketch - Draw & Paint', 'ART_AND_DESIGN', '4.5', '215644', '25M', '50,000,000+', 'Free', '0', 'Teen', 'Art & Design', 'June 8, 2018', 'Varies with device', '4.2 and up'], ['Pixel Draw - Number Art Coloring Book', 'ART_AND_DESIGN', '4.3', '967', '2.8M', '100,000+', 'Free', '0', 'Everyone', 'Art & Design;Creativity', 'June 20, 2018', '1.1', '4.4 and up'], ['Paper flowers instructions', 'ART_AND_DESIGN', '4.4', '167', '5.6M', '50,000+', 'Free', '0', 'Everyone', 'Art & Design', 'March 26, 2017', '1.0', '2.3 and up']]\n"
     ]
    }
   ],
   "source": [
    "Android_clean = [] \n",
    "already_added = []\n",
    "for app in Android[1:]:\n",
    "    name = app[0]\n",
    "    n_reviews = float(app[3])\n",
    "    if name not in already_added and reviews_max[name] == n_reviews:\n",
    "        Android_clean.append(app)\n",
    "        already_added.append(name)\n",
    "\n",
    "print(len(Android_clean))\n",
    "print('\\n')\n",
    "print(Android_clean[:5])\n",
    "\n",
    "    "
   ]
  },
  {
   "cell_type": "markdown",
   "metadata": {},
   "source": [
    "**2.2 Removing Non-English Apps (Irrelevant Apps)**"
   ]
  },
  {
   "cell_type": "markdown",
   "metadata": {},
   "source": [
    "As you remember that this analysis would exercise on the apps serve to english speaking audiences. Therefore, the dataset should be cleared from the apps whose names contain non-engsligh characters. We need a function for this action."
   ]
  },
  {
   "cell_type": "code",
   "execution_count": 14,
   "metadata": {},
   "outputs": [
    {
     "name": "stdout",
     "output_type": "stream",
     "text": [
      "False\n",
      "False\n",
      "True\n",
      "False\n"
     ]
    }
   ],
   "source": [
    "def nonenglish(name_of_app):\n",
    "    charnumbers =[]\n",
    "    for name in name_of_app:\n",
    "        charnumbers.append(ord(name))\n",
    "    if max(charnumbers) <= 127:\n",
    "        return True\n",
    "    else:\n",
    "        return False          \n",
    "        \n",
    "  \n",
    "\n",
    "print(nonenglish('Docs To Go™ Free Office Suite'))\n",
    "print(nonenglish('Instachat 😜'))\n",
    "print(nonenglish('Instagram'))\n",
    "print(nonenglish('爱奇艺PPS -《欢乐颂2》电视剧热播'))  \n",
    "        \n",
    "    "
   ]
  },
  {
   "cell_type": "markdown",
   "metadata": {},
   "source": [
    "To avoid the program ignores \"english apps wıth special character\" as above, the function should be revised. Let say the apps with english name and contain 3 special character such \"™\",\"😜\" etc.   will also be considered in the analyzed."
   ]
  },
  {
   "cell_type": "code",
   "execution_count": 15,
   "metadata": {
    "scrolled": true
   },
   "outputs": [
    {
     "name": "stdout",
     "output_type": "stream",
     "text": [
      "False\n",
      "True\n",
      "True\n",
      "False\n"
     ]
    }
   ],
   "source": [
    "def nonenglish(name_of_app):\n",
    "    charnumbers =[]\n",
    "    for name in name_of_app:\n",
    "        if ord(name) >= 127:\n",
    "              charnumbers.append(ord(name))     \n",
    "    if len(charnumbers) <= 3:\n",
    "        return True\n",
    "    else:\n",
    "        return False\n",
    "    \n",
    "print(nonenglish('Docs To Go™™™™ Free Office Suite'))\n",
    "print(nonenglish('Instachat 😜😜😜'))\n",
    "print(nonenglish('Instagram'))\n",
    "print(nonenglish('爱奇艺PPS -《欢乐颂2》电视剧热播')) "
   ]
  },
  {
   "cell_type": "markdown",
   "metadata": {},
   "source": [
    "The function ready to apply to our datasets"
   ]
  },
  {
   "cell_type": "code",
   "execution_count": 16,
   "metadata": {},
   "outputs": [
    {
     "name": "stdout",
     "output_type": "stream",
     "text": [
      "9659\n",
      "9614\n",
      "\n",
      "\n",
      "[['Photo Editor & Candy Camera & Grid & ScrapBook', 'ART_AND_DESIGN', '4.1', '159', '19M', '10,000+', 'Free', '0', 'Everyone', 'Art & Design', 'January 7, 2018', '1.0.0', '4.0.3 and up'], ['U Launcher Lite – FREE Live Cool Themes, Hide Apps', 'ART_AND_DESIGN', '4.7', '87510', '8.7M', '5,000,000+', 'Free', '0', 'Everyone', 'Art & Design', 'August 1, 2018', '1.2.4', '4.0.3 and up'], ['Sketch - Draw & Paint', 'ART_AND_DESIGN', '4.5', '215644', '25M', '50,000,000+', 'Free', '0', 'Teen', 'Art & Design', 'June 8, 2018', 'Varies with device', '4.2 and up']]\n",
      "\n",
      "\n",
      "7198\n",
      "6183\n",
      "\n",
      "\n",
      "[['284882215', 'Facebook', '389879808', 'USD', '0.0', '2974676', '212', '3.5', '3.5', '95.0', '4+', 'Social Networking', '37', '1', '29', '1'], ['389801252', 'Instagram', '113954816', 'USD', '0.0', '2161558', '1289', '4.5', '4.0', '10.23', '12+', 'Photo & Video', '37', '0', '29', '1'], ['529479190', 'Clash of Clans', '116476928', 'USD', '0.0', '2130805', '579', '4.5', '4.5', '9.24.12', '9+', 'Games', '38', '5', '18', '1']]\n"
     ]
    }
   ],
   "source": [
    "Onlyenglish_Android = []\n",
    "for app in Android_clean:\n",
    "    name = app[0]\n",
    "    if nonenglish(name):\n",
    "        Onlyenglish_Android.append(app)\n",
    "\n",
    "print(len(Android_clean))\n",
    "print(len(Onlyenglish_Android))\n",
    "print('\\n')\n",
    "print(Onlyenglish_Android[:3])\n",
    "print('\\n')\n",
    "\n",
    "Onlyenglish_iOS = []\n",
    "for app in IOS[1:]:\n",
    "    name = app[1]\n",
    "    if nonenglish(name):\n",
    "        Onlyenglish_iOS.append(app)\n",
    "        \n",
    "print(len(IOS))\n",
    "print(len(Onlyenglish_iOS))\n",
    "print('\\n')\n",
    "print(Onlyenglish_iOS[:3])"
   ]
  },
  {
   "cell_type": "markdown",
   "metadata": {},
   "source": [
    "**3.Eleminating of Non-free Apss**"
   ]
  },
  {
   "cell_type": "markdown",
   "metadata": {},
   "source": [
    "As it is mentioned earlier, this anlaysis will be apply to the apps whose main source of revenue consists of in-app adds. This will be final step before the anlaysis."
   ]
  },
  {
   "cell_type": "code",
   "execution_count": 17,
   "metadata": {
    "scrolled": false
   },
   "outputs": [
    {
     "name": "stdout",
     "output_type": "stream",
     "text": [
      "9614\n",
      "8864\n",
      "\n",
      "\n",
      "6183\n",
      "3222\n"
     ]
    }
   ],
   "source": [
    "Only_Free_Apps_for_Android = []\n",
    "for app in Onlyenglish_Android:\n",
    "    free_apps = app[7]\n",
    "    if free_apps == '0':\n",
    "        Only_Free_Apps_for_Android.append(app)\n",
    "        \n",
    "print(len(Onlyenglish_Android))\n",
    "print(len(Only_Free_Apps_for_Android))\n",
    "print('\\n')\n",
    "\n",
    "Only_Free_Apps_for_iOS = []\n",
    "for app in Onlyenglish_iOS:\n",
    "    free_apps = app[4]\n",
    "    if free_apps == '0.0':\n",
    "        Only_Free_Apps_for_iOS.append(app)\n",
    "        \n",
    "print(len(Onlyenglish_iOS))\n",
    "print(len(Only_Free_Apps_for_iOS))\n",
    "\n",
    "\n",
    "\n",
    "    "
   ]
  },
  {
   "cell_type": "markdown",
   "metadata": {},
   "source": [
    "**4.Analyzing**"
   ]
  },
  {
   "cell_type": "markdown",
   "metadata": {},
   "source": [
    "Now everything is ready for analyzing.\n",
    "Would we have taken a logical step, if we started by identifying the apps available on both Google Play and the Appstore?\n",
    "\n",
    "What attribute can give us an idea about most attractive apps?\n",
    "\n",
    "Lets start to determine the most common genre. In this way, we will narrow the study range. \n",
    " "
   ]
  },
  {
   "cell_type": "code",
   "execution_count": 18,
   "metadata": {
    "scrolled": true
   },
   "outputs": [
    {
     "name": "stdout",
     "output_type": "stream",
     "text": [
      "{'Art & Design': 53, 'Art & Design;Creativity': 6, 'Auto & Vehicles': 82, 'Beauty': 53, 'Books & Reference': 190, 'Business': 407, 'Comics': 54, 'Comics;Creativity': 1, 'Communication': 287, 'Dating': 165, 'Education': 474, 'Education;Creativity': 4, 'Education;Education': 30, 'Education;Pretend Play': 5, 'Education;Brain Games': 3, 'Entertainment': 538, 'Entertainment;Brain Games': 7, 'Entertainment;Creativity': 3, 'Entertainment;Music & Video': 15, 'Events': 63, 'Finance': 328, 'Food & Drink': 110, 'Health & Fitness': 273, 'House & Home': 73, 'Libraries & Demo': 83, 'Lifestyle': 345, 'Lifestyle;Pretend Play': 1, 'Card': 40, 'Arcade': 164, 'Puzzle': 100, 'Racing': 88, 'Sports': 307, 'Casual': 156, 'Simulation': 181, 'Adventure': 60, 'Trivia': 37, 'Action': 275, 'Word': 23, 'Role Playing': 83, 'Strategy': 81, 'Board': 34, 'Music': 18, 'Action;Action & Adventure': 9, 'Casual;Brain Games': 12, 'Educational;Creativity': 3, 'Puzzle;Brain Games': 15, 'Educational;Education': 35, 'Casual;Pretend Play': 21, 'Educational;Brain Games': 6, 'Art & Design;Pretend Play': 1, 'Educational;Pretend Play': 8, 'Entertainment;Education': 1, 'Casual;Education': 2, 'Casual;Creativity': 6, 'Casual;Action & Adventure': 12, 'Music;Music & Video': 2, 'Arcade;Pretend Play': 1, 'Adventure;Action & Adventure': 3, 'Role Playing;Action & Adventure': 3, 'Simulation;Pretend Play': 2, 'Puzzle;Creativity': 2, 'Simulation;Action & Adventure': 7, 'Racing;Action & Adventure': 15, 'Sports;Action & Adventure': 2, 'Educational;Action & Adventure': 3, 'Arcade;Action & Adventure': 11, 'Entertainment;Action & Adventure': 3, 'Art & Design;Action & Adventure': 1, 'Puzzle;Action & Adventure': 3, 'Education;Action & Adventure': 3, 'Strategy;Action & Adventure': 1, 'Music & Audio;Music & Video': 1, 'Health & Fitness;Education': 1, 'Board;Action & Adventure': 2, 'Board;Brain Games': 7, 'Casual;Music & Video': 1, 'Education;Music & Video': 3, 'Role Playing;Pretend Play': 4, 'Entertainment;Pretend Play': 2, 'Medical': 313, 'Social': 236, 'Shopping': 199, 'Photography': 261, 'Travel & Local': 206, 'Travel & Local;Action & Adventure': 1, 'Tools': 749, 'Tools;Education': 1, 'Personalization': 294, 'Productivity': 345, 'Parenting': 44, 'Parenting;Music & Video': 6, 'Parenting;Education': 7, 'Parenting;Brain Games': 1, 'Weather': 71, 'Video Players & Editors': 157, 'Video Players & Editors;Music & Video': 2, 'Video Players & Editors;Creativity': 1, 'News & Magazines': 248, 'Maps & Navigation': 124, 'Health & Fitness;Action & Adventure': 1, 'Educational': 33, 'Casino': 38, 'Trivia;Education': 1, 'Lifestyle;Education': 1, 'Card;Action & Adventure': 1, 'Books & Reference;Education': 1, 'Simulation;Education': 1, 'Puzzle;Education': 1, 'Adventure;Education': 1, 'Role Playing;Brain Games': 1, 'Strategy;Education': 1, 'Racing;Pretend Play': 1, 'Communication;Creativity': 1, 'Strategy;Creativity': 1}\n",
      "\n",
      "\n",
      "Tools\n"
     ]
    }
   ],
   "source": [
    "Genres_Android = {}\n",
    "for attr in Only_Free_Apps_for_Android:\n",
    "    genre = attr[9]\n",
    "    if genre in Genres_Android:\n",
    "        Genres_Android[genre] += 1\n",
    "    else:\n",
    "        Genres_Android[genre] = 1\n",
    "        \n",
    "print(Genres_Android)\n",
    "print('\\n')\n",
    "print(max(Genres_Android, key=Genres_Android.get))       "
   ]
  },
  {
   "cell_type": "code",
   "execution_count": 19,
   "metadata": {},
   "outputs": [
    {
     "name": "stdout",
     "output_type": "stream",
     "text": [
      "{'Social Networking': 106, 'Photo & Video': 160, 'Games': 1874, 'Music': 66, 'Reference': 18, 'Health & Fitness': 65, 'Weather': 28, 'Utilities': 81, 'Travel': 40, 'Shopping': 84, 'News': 43, 'Navigation': 6, 'Lifestyle': 51, 'Entertainment': 254, 'Food & Drink': 26, 'Sports': 69, 'Book': 14, 'Finance': 36, 'Education': 118, 'Productivity': 56, 'Business': 17, 'Catalogs': 4, 'Medical': 6}\n",
      "\n",
      "\n",
      "Games\n"
     ]
    }
   ],
   "source": [
    "Genres_iOS = {}\n",
    "for attr in Only_Free_Apps_for_iOS:\n",
    "    genre = attr[11]\n",
    "    if genre in Genres_iOS:\n",
    "        Genres_iOS[genre] += 1\n",
    "    else:\n",
    "        Genres_iOS[genre] = 1\n",
    "        \n",
    "print(Genres_iOS)\n",
    "print('\\n')\n",
    "print(max(Genres_iOS, key=Genres_iOS.get))"
   ]
  },
  {
   "cell_type": "markdown",
   "metadata": {},
   "source": [
    "Even though we found out the most common genre in both dataset It would take time if we wanted to the find \"the most\" for every attributes. In order to shorten this proces we need a function as follow"
   ]
  },
  {
   "cell_type": "code",
   "execution_count": 20,
   "metadata": {
    "scrolled": true
   },
   "outputs": [
    {
     "data": {
      "text/plain": [
       "{'Social Networking': 106,\n",
       " 'Photo & Video': 160,\n",
       " 'Games': 1874,\n",
       " 'Music': 66,\n",
       " 'Reference': 18,\n",
       " 'Health & Fitness': 65,\n",
       " 'Weather': 28,\n",
       " 'Utilities': 81,\n",
       " 'Travel': 40,\n",
       " 'Shopping': 84,\n",
       " 'News': 43,\n",
       " 'Navigation': 6,\n",
       " 'Lifestyle': 51,\n",
       " 'Entertainment': 254,\n",
       " 'Food & Drink': 26,\n",
       " 'Sports': 69,\n",
       " 'Book': 14,\n",
       " 'Finance': 36,\n",
       " 'Education': 118,\n",
       " 'Productivity': 56,\n",
       " 'Business': 17,\n",
       " 'Catalogs': 4,\n",
       " 'Medical': 6}"
      ]
     },
     "execution_count": 20,
     "metadata": {},
     "output_type": "execute_result"
    }
   ],
   "source": [
    "def freq_table(dataset,index):\n",
    "    any_column = {}\n",
    "    for row in dataset:\n",
    "        key = row[index]\n",
    "        if key in any_column:\n",
    "            any_column[key] +=1\n",
    "        else:\n",
    "            any_column[key] = 1\n",
    "    return any_column    \n",
    "\n",
    "freq_table(Only_Free_Apps_for_iOS,11) # for control purpose \n"
   ]
  },
  {
   "cell_type": "markdown",
   "metadata": {},
   "source": [
    "Turning the figures to percentage will ease to readiblity."
   ]
  },
  {
   "cell_type": "code",
   "execution_count": 21,
   "metadata": {
    "scrolled": true
   },
   "outputs": [
    {
     "data": {
      "text/plain": [
       "{'Social Networking': 3.29,\n",
       " 'Photo & Video': 4.97,\n",
       " 'Games': 58.16,\n",
       " 'Music': 2.05,\n",
       " 'Reference': 0.56,\n",
       " 'Health & Fitness': 2.02,\n",
       " 'Weather': 0.87,\n",
       " 'Utilities': 2.51,\n",
       " 'Travel': 1.24,\n",
       " 'Shopping': 2.61,\n",
       " 'News': 1.33,\n",
       " 'Navigation': 0.19,\n",
       " 'Lifestyle': 1.58,\n",
       " 'Entertainment': 7.88,\n",
       " 'Food & Drink': 0.81,\n",
       " 'Sports': 2.14,\n",
       " 'Book': 0.43,\n",
       " 'Finance': 1.12,\n",
       " 'Education': 3.66,\n",
       " 'Productivity': 1.74,\n",
       " 'Business': 0.53,\n",
       " 'Catalogs': 0.12,\n",
       " 'Medical': 0.19}"
      ]
     },
     "execution_count": 21,
     "metadata": {},
     "output_type": "execute_result"
    }
   ],
   "source": [
    "def freq_table(dataset,index):\n",
    "    any_column = {}       \n",
    "    for row in dataset:\n",
    "        key = row[index]\n",
    "        if key in any_column:\n",
    "            any_column[key] +=1\n",
    "        else:\n",
    "            any_column[key] = 1\n",
    "    Total_Apps = sum(any_column.values())\n",
    "    for x in any_column:\n",
    "        any_column[x] = round(any_column[x]/Total_Apps*100,2)      \n",
    "    return any_column    \n",
    "\n",
    "freq_table(Only_Free_Apps_for_iOS,11) # for control purpose "
   ]
  },
  {
   "cell_type": "markdown",
   "metadata": {},
   "source": [
    "Now let's clear the clutter with descending order."
   ]
  },
  {
   "cell_type": "code",
   "execution_count": 22,
   "metadata": {},
   "outputs": [
    {
     "name": "stdout",
     "output_type": "stream",
     "text": [
      "Games : 58.16\n",
      "Entertainment : 7.88\n",
      "Photo & Video : 4.97\n",
      "Education : 3.66\n",
      "Social Networking : 3.29\n",
      "Shopping : 2.61\n",
      "Utilities : 2.51\n",
      "Sports : 2.14\n",
      "Music : 2.05\n",
      "Health & Fitness : 2.02\n",
      "Productivity : 1.74\n",
      "Lifestyle : 1.58\n",
      "News : 1.33\n",
      "Travel : 1.24\n",
      "Finance : 1.12\n",
      "Weather : 0.87\n",
      "Food & Drink : 0.81\n",
      "Reference : 0.56\n",
      "Business : 0.53\n",
      "Book : 0.43\n",
      "Navigation : 0.19\n",
      "Medical : 0.19\n",
      "Catalogs : 0.12\n"
     ]
    }
   ],
   "source": [
    "def display_table(dataset, index):\n",
    "    table = freq_table(dataset, index)\n",
    "    table_display = []\n",
    "    for key in table:\n",
    "        key_val_as_tuple = (table[key], key)\n",
    "        table_display.append(key_val_as_tuple)\n",
    "\n",
    "    table_sorted = sorted(table_display, reverse = True)\n",
    "    for entry in table_sorted:\n",
    "        print(entry[1], ':', entry[0])\n",
    "\n",
    "display_table(Only_Free_Apps_for_iOS,11) #prime_genre"
   ]
  },
  {
   "cell_type": "markdown",
   "metadata": {},
   "source": [
    "For GooglePlay"
   ]
  },
  {
   "cell_type": "code",
   "execution_count": 23,
   "metadata": {},
   "outputs": [
    {
     "name": "stdout",
     "output_type": "stream",
     "text": [
      "FAMILY : 18.91\n",
      "GAME : 9.72\n",
      "TOOLS : 8.46\n",
      "BUSINESS : 4.59\n",
      "LIFESTYLE : 3.9\n",
      "PRODUCTIVITY : 3.89\n",
      "FINANCE : 3.7\n",
      "MEDICAL : 3.53\n",
      "SPORTS : 3.4\n",
      "PERSONALIZATION : 3.32\n",
      "COMMUNICATION : 3.24\n",
      "HEALTH_AND_FITNESS : 3.08\n",
      "PHOTOGRAPHY : 2.94\n",
      "NEWS_AND_MAGAZINES : 2.8\n",
      "SOCIAL : 2.66\n",
      "TRAVEL_AND_LOCAL : 2.34\n",
      "SHOPPING : 2.25\n",
      "BOOKS_AND_REFERENCE : 2.14\n",
      "DATING : 1.86\n",
      "VIDEO_PLAYERS : 1.79\n",
      "MAPS_AND_NAVIGATION : 1.4\n",
      "FOOD_AND_DRINK : 1.24\n",
      "EDUCATION : 1.16\n",
      "ENTERTAINMENT : 0.96\n",
      "LIBRARIES_AND_DEMO : 0.94\n",
      "AUTO_AND_VEHICLES : 0.93\n",
      "HOUSE_AND_HOME : 0.82\n",
      "WEATHER : 0.8\n",
      "EVENTS : 0.71\n",
      "PARENTING : 0.65\n",
      "ART_AND_DESIGN : 0.64\n",
      "COMICS : 0.62\n",
      "BEAUTY : 0.6\n",
      "\n",
      "\n",
      "Tools : 8.45\n",
      "Entertainment : 6.07\n",
      "Education : 5.35\n",
      "Business : 4.59\n",
      "Productivity : 3.89\n",
      "Lifestyle : 3.89\n",
      "Finance : 3.7\n",
      "Medical : 3.53\n",
      "Sports : 3.46\n",
      "Personalization : 3.32\n",
      "Communication : 3.24\n",
      "Action : 3.1\n",
      "Health & Fitness : 3.08\n",
      "Photography : 2.94\n",
      "News & Magazines : 2.8\n",
      "Social : 2.66\n",
      "Travel & Local : 2.32\n",
      "Shopping : 2.25\n",
      "Books & Reference : 2.14\n",
      "Simulation : 2.04\n",
      "Dating : 1.86\n",
      "Arcade : 1.85\n",
      "Video Players & Editors : 1.77\n",
      "Casual : 1.76\n",
      "Maps & Navigation : 1.4\n",
      "Food & Drink : 1.24\n",
      "Puzzle : 1.13\n",
      "Racing : 0.99\n",
      "Role Playing : 0.94\n",
      "Libraries & Demo : 0.94\n",
      "Auto & Vehicles : 0.93\n",
      "Strategy : 0.91\n",
      "House & Home : 0.82\n",
      "Weather : 0.8\n",
      "Events : 0.71\n",
      "Adventure : 0.68\n",
      "Comics : 0.61\n",
      "Beauty : 0.6\n",
      "Art & Design : 0.6\n",
      "Parenting : 0.5\n",
      "Card : 0.45\n",
      "Casino : 0.43\n",
      "Trivia : 0.42\n",
      "Educational;Education : 0.39\n",
      "Board : 0.38\n",
      "Educational : 0.37\n",
      "Education;Education : 0.34\n",
      "Word : 0.26\n",
      "Casual;Pretend Play : 0.24\n",
      "Music : 0.2\n",
      "Racing;Action & Adventure : 0.17\n",
      "Puzzle;Brain Games : 0.17\n",
      "Entertainment;Music & Video : 0.17\n",
      "Casual;Brain Games : 0.14\n",
      "Casual;Action & Adventure : 0.14\n",
      "Arcade;Action & Adventure : 0.12\n",
      "Action;Action & Adventure : 0.1\n",
      "Educational;Pretend Play : 0.09\n",
      "Simulation;Action & Adventure : 0.08\n",
      "Parenting;Education : 0.08\n",
      "Entertainment;Brain Games : 0.08\n",
      "Board;Brain Games : 0.08\n",
      "Parenting;Music & Video : 0.07\n",
      "Educational;Brain Games : 0.07\n",
      "Casual;Creativity : 0.07\n",
      "Art & Design;Creativity : 0.07\n",
      "Education;Pretend Play : 0.06\n",
      "Role Playing;Pretend Play : 0.05\n",
      "Education;Creativity : 0.05\n",
      "Role Playing;Action & Adventure : 0.03\n",
      "Puzzle;Action & Adventure : 0.03\n",
      "Entertainment;Creativity : 0.03\n",
      "Entertainment;Action & Adventure : 0.03\n",
      "Educational;Creativity : 0.03\n",
      "Educational;Action & Adventure : 0.03\n",
      "Education;Music & Video : 0.03\n",
      "Education;Brain Games : 0.03\n",
      "Education;Action & Adventure : 0.03\n",
      "Adventure;Action & Adventure : 0.03\n",
      "Video Players & Editors;Music & Video : 0.02\n",
      "Sports;Action & Adventure : 0.02\n",
      "Simulation;Pretend Play : 0.02\n",
      "Puzzle;Creativity : 0.02\n",
      "Music;Music & Video : 0.02\n",
      "Entertainment;Pretend Play : 0.02\n",
      "Casual;Education : 0.02\n",
      "Board;Action & Adventure : 0.02\n",
      "Video Players & Editors;Creativity : 0.01\n",
      "Trivia;Education : 0.01\n",
      "Travel & Local;Action & Adventure : 0.01\n",
      "Tools;Education : 0.01\n",
      "Strategy;Education : 0.01\n",
      "Strategy;Creativity : 0.01\n",
      "Strategy;Action & Adventure : 0.01\n",
      "Simulation;Education : 0.01\n",
      "Role Playing;Brain Games : 0.01\n",
      "Racing;Pretend Play : 0.01\n",
      "Puzzle;Education : 0.01\n",
      "Parenting;Brain Games : 0.01\n",
      "Music & Audio;Music & Video : 0.01\n",
      "Lifestyle;Pretend Play : 0.01\n",
      "Lifestyle;Education : 0.01\n",
      "Health & Fitness;Education : 0.01\n",
      "Health & Fitness;Action & Adventure : 0.01\n",
      "Entertainment;Education : 0.01\n",
      "Communication;Creativity : 0.01\n",
      "Comics;Creativity : 0.01\n",
      "Casual;Music & Video : 0.01\n",
      "Card;Action & Adventure : 0.01\n",
      "Books & Reference;Education : 0.01\n",
      "Art & Design;Pretend Play : 0.01\n",
      "Art & Design;Action & Adventure : 0.01\n",
      "Arcade;Pretend Play : 0.01\n",
      "Adventure;Education : 0.01\n"
     ]
    }
   ],
   "source": [
    "def display_table(dataset, index):\n",
    "    table = freq_table(dataset, index)\n",
    "    table_display = []\n",
    "    for key in table:\n",
    "        key_val_as_tuple = (table[key], key)\n",
    "        table_display.append(key_val_as_tuple)\n",
    "\n",
    "    table_sorted = sorted(table_display, reverse = True)\n",
    "    for entry in table_sorted:\n",
    "        print(entry[1], ':', entry[0])\n",
    "\n",
    "display_table(Only_Free_Apps_for_Android,1) #Category\n",
    "print('\\n')\n",
    "display_table(Only_Free_Apps_for_Android,9) #Genre"
   ]
  },
  {
   "cell_type": "markdown",
   "metadata": {},
   "source": [
    "Has our job done? Can we come up with the assertion that the apps under the most common genre are the most popular ones? What if an app is downloaded the most, despite it is under the least common genre. What about considering the total rating wouldn't give us a healthier result?"
   ]
  },
  {
   "cell_type": "markdown",
   "metadata": {},
   "source": [
    "Examining to attributes at same time requires **nested loop** in other words a loop inside another loop."
   ]
  },
  {
   "cell_type": "code",
   "execution_count": 24,
   "metadata": {},
   "outputs": [
    {
     "name": "stdout",
     "output_type": "stream",
     "text": [
      "Social Networking : 15.34\n",
      "Music : 9.72\n",
      "Reference : 7.56\n",
      "Weather : 7.48\n",
      "Shopping : 6.28\n",
      "Photo & Video : 4.84\n",
      "Travel : 4.76\n",
      "Sports : 4.73\n",
      "Food & Drink : 4.7\n",
      "Games : 4.62\n",
      "News : 4.39\n",
      "Navigation : 4.0\n",
      "Finance : 3.72\n",
      "Health & Fitness : 3.34\n",
      "Productivity : 2.71\n",
      "Entertainment : 2.54\n",
      "Utilities : 2.31\n",
      "Lifestyle : 2.08\n",
      "Book : 1.73\n",
      "Business : 1.61\n",
      "Education : 0.75\n",
      "Catalogs : 0.58\n",
      "Medical : 0.2\n"
     ]
    }
   ],
   "source": [
    "unique_genre_iOS = freq_table(Only_Free_Apps_for_iOS,11)\n",
    "\n",
    "genres_with_total_rating = {}\n",
    "\n",
    "for genre in unique_genre_iOS:\n",
    "    total = 0 # sum of user ratings to be assigned to this variable\n",
    "    len_genre = 0 # This variable will store the number of apps specific to each genre\n",
    "        \n",
    "    for x in IOS:\n",
    "        genre_app = x[11] \n",
    "        if genre_app == genre:\n",
    "            total += float(x[5])\n",
    "            len_genre += 1\n",
    "            average_ratings = total/len_genre\n",
    "            genres_with_total_rating[genre] = average_ratings\n",
    "\n",
    "\n",
    "\n",
    "Total_Apps = sum(genres_with_total_rating.values())\n",
    "for x in genres_with_total_rating:\n",
    "    genres_with_total_rating[x] = round(genres_with_total_rating[x]/Total_Apps*100,2)\n",
    "\n",
    "table_display = []\n",
    "for key in genres_with_total_rating:\n",
    "    key_val_as_tuple = (genres_with_total_rating[key], key)\n",
    "    table_display.append(key_val_as_tuple)\n",
    "\n",
    "table_sorted = sorted(table_display, reverse = True)\n",
    "for entry in table_sorted:\n",
    "    print(entry[1], ':', entry[0]) \n",
    "        \n",
    "  \n",
    "    \n",
    "            \n"
   ]
  },
  {
   "cell_type": "markdown",
   "metadata": {},
   "source": [
    "From this perspective, the results seem to have changed. As per the results above we can recommend an application under \"social networking\" category if the main purpose is to reach more users.Or, starting from a break-even analysis, a genre that has fewer competitors but attracts more attention can be suggested. The most appropriate genre for this situation is \"music\" "
   ]
  },
  {
   "cell_type": "markdown",
   "metadata": {},
   "source": [
    "Next is Google Store analysis. Unlike the Apple Store, the attributes to be used to determine the most attractive genres includes string data such as 100,000+ whihc cannot easily turn to a float by using **float()** command.Therefore we need to remove these \"+\" and \",\" symbol fro a precise analysis. str.replace(old, new)"
   ]
  },
  {
   "cell_type": "code",
   "execution_count": 28,
   "metadata": {},
   "outputs": [
    {
     "name": "stdout",
     "output_type": "stream",
     "text": [
      "GAME : 20.93\n",
      "COMMUNICATION : 19.48\n",
      "PRODUCTIVITY : 8.46\n",
      "SOCIAL : 8.39\n",
      "TOOLS : 6.83\n",
      "FAMILY : 6.12\n",
      "PHOTOGRAPHY : 6.02\n",
      "NEWS_AND_MAGAZINES : 4.47\n",
      "TRAVEL_AND_LOCAL : 4.1\n",
      "VIDEO_PLAYERS : 3.71\n",
      "SHOPPING : 1.94\n",
      "ENTERTAINMENT : 1.71\n",
      "PERSONALIZATION : 1.39\n",
      "BOOKS_AND_REFERENCE : 1.15\n",
      "SPORTS : 1.04\n",
      "HEALTH_AND_FITNESS : 0.94\n",
      "BUSINESS : 0.6\n",
      "FINANCE : 0.52\n",
      "EDUCATION : 0.52\n",
      "MAPS_AND_NAVIGATION : 0.43\n",
      "LIFESTYLE : 0.32\n",
      "WEATHER : 0.25\n",
      "FOOD_AND_DRINK : 0.16\n",
      "DATING : 0.16\n",
      "HOUSE_AND_HOME : 0.1\n",
      "ART_AND_DESIGN : 0.07\n",
      "LIBRARIES_AND_DEMO : 0.04\n",
      "MEDICAL : 0.03\n",
      "COMICS : 0.03\n",
      "AUTO_AND_VEHICLES : 0.03\n",
      "PARENTING : 0.02\n",
      "BEAUTY : 0.02\n",
      "EVENTS : 0.01\n"
     ]
    }
   ],
   "source": [
    "# str.replace(old, new) thanks to this method we will get rid of un wanted symbols.\n",
    "\n",
    "unique_genre_android = freq_table(Only_Free_Apps_for_Android,1)\n",
    "\n",
    "genres_with_total_install = {}\n",
    "\n",
    "for category in unique_genre_android:\n",
    "    total = 0 # sum of user ratings to be assigned to this variable\n",
    "    len_category = 0 # This variable will store the number of apps specific to each genre\n",
    "        \n",
    "    for x in Android:\n",
    "        category_app = x[1] # Category \n",
    "        \n",
    "        if category_app == category:\n",
    "            float_install = x[5] #Installs Colomn\n",
    "            float_install = float_install.replace(\",\",\"\")\n",
    "            float_install = float_install.replace(\"+\",\"\")\n",
    "            total += float(float_install) \n",
    "            len_category += 1\n",
    "            average_ratings = total/len_genre\n",
    "            genres_with_total_install[category] = average_ratings\n",
    "\n",
    "\n",
    "\n",
    "Total_Apps1 = sum(genres_with_total_install.values())\n",
    "for x in genres_with_total_install:\n",
    "    genres_with_total_install[x] = round(genres_with_total_install[x]/Total_Apps1*100,2)\n",
    "\n",
    "table_display1 = []\n",
    "for key in genres_with_total_install:\n",
    "    key_val_as_tuple = (genres_with_total_install[key], key)\n",
    "    table_display1.append(key_val_as_tuple)\n",
    "\n",
    "table_sorted1 = sorted(table_display1, reverse = True)\n",
    "for entry in table_sorted1:\n",
    "    print(entry[1], ':', entry[0])"
   ]
  },
  {
   "cell_type": "markdown",
   "metadata": {},
   "source": [
    "**5.Result**"
   ]
  },
  {
   "cell_type": "markdown",
   "metadata": {},
   "source": [
    "Considering the results produced for both markets, it is seen that the applications created in the social media area reach more users."
   ]
  }
 ],
 "metadata": {
  "kernelspec": {
   "display_name": "Python 3",
   "language": "python",
   "name": "python3"
  },
  "language_info": {
   "codemirror_mode": {
    "name": "ipython",
    "version": 3
   },
   "file_extension": ".py",
   "mimetype": "text/x-python",
   "name": "python",
   "nbconvert_exporter": "python",
   "pygments_lexer": "ipython3",
   "version": "3.8.2"
  }
 },
 "nbformat": 4,
 "nbformat_minor": 2
}
